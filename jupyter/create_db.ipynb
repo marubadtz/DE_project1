{
 "cells": [
  {
   "cell_type": "code",
   "execution_count": 1,
   "id": "bde2c697-13dd-400e-aa45-b0e7aabe94fb",
   "metadata": {},
   "outputs": [],
   "source": [
    "import os\n",
    "import pandas as pd\n",
    "from sqlalchemy import create_engine\n",
    "from dotenv import load_dotenv"
   ]
  },
  {
   "cell_type": "code",
   "execution_count": 2,
   "id": "108f511d-d9c1-440a-a87a-70d92d755558",
   "metadata": {},
   "outputs": [],
   "source": [
    "# In this notepad we want to explore datatypes in our raw files\n",
    "# and create an empty Postgresql table in remote database"
   ]
  },
  {
   "cell_type": "code",
   "execution_count": 3,
   "id": "87e7a722-c98f-4f17-95b3-b08ff6b5270a",
   "metadata": {},
   "outputs": [
    {
     "name": "stdout",
     "output_type": "stream",
     "text": [
      "['extracted_2022_09.parquet', 'extracted_2022_09.csv']\n"
     ]
    }
   ],
   "source": [
    "# Let's load environmental vairables and define paths\n",
    "load_dotenv(dotenv_path='../.env')\n",
    "DATABASE_URL = os.getenv('DATABASE_URL')\n",
    "DATABASE_URL = DATABASE_URL.replace('postgres:', 'postgresql:') # This stpe is requred for sqlalchemy to work properly\n",
    "print(os.listdir('../airflow/data'))"
   ]
  },
  {
   "cell_type": "code",
   "execution_count": 4,
   "id": "b8f3d9c6-b7db-4609-828e-b7b62cc135f3",
   "metadata": {},
   "outputs": [],
   "source": [
    "# Read parquet file to dataframe\n",
    "file_path = '../airflow/data/extracted_2022_09.parquet'\n",
    "df = pd.read_parquet(file_path)"
   ]
  },
  {
   "cell_type": "code",
   "execution_count": 5,
   "id": "70bf4c15-7fb8-426b-a872-0d75666c94bf",
   "metadata": {},
   "outputs": [
    {
     "data": {
      "text/html": [
       "<div>\n",
       "<style scoped>\n",
       "    .dataframe tbody tr th:only-of-type {\n",
       "        vertical-align: middle;\n",
       "    }\n",
       "\n",
       "    .dataframe tbody tr th {\n",
       "        vertical-align: top;\n",
       "    }\n",
       "\n",
       "    .dataframe thead th {\n",
       "        text-align: right;\n",
       "    }\n",
       "</style>\n",
       "<table border=\"1\" class=\"dataframe\">\n",
       "  <thead>\n",
       "    <tr style=\"text-align: right;\">\n",
       "      <th></th>\n",
       "      <th>OBJECTID</th>\n",
       "      <th>ACRES</th>\n",
       "      <th>SITE_ID</th>\n",
       "      <th>LOCATION</th>\n",
       "      <th>WATERSHED</th>\n",
       "      <th>SIGNATURES</th>\n",
       "      <th>BED_DENSITY</th>\n",
       "      <th>FIELD_06_V</th>\n",
       "      <th>FIELD_02_V</th>\n",
       "      <th>SHAPE_Length</th>\n",
       "      <th>SHAPE_Area</th>\n",
       "    </tr>\n",
       "  </thead>\n",
       "  <tbody>\n",
       "    <tr>\n",
       "      <th>0</th>\n",
       "      <td>1</td>\n",
       "      <td>6.96160</td>\n",
       "      <td>133</td>\n",
       "      <td>Rocky Neck State Park area</td>\n",
       "      <td>12</td>\n",
       "      <td>1</td>\n",
       "      <td>M</td>\n",
       "      <td>Y</td>\n",
       "      <td>N</td>\n",
       "      <td>0.012991</td>\n",
       "      <td>3.028277e-06</td>\n",
       "    </tr>\n",
       "    <tr>\n",
       "      <th>1</th>\n",
       "      <td>2</td>\n",
       "      <td>5.00563</td>\n",
       "      <td>134</td>\n",
       "      <td>Rocky Neck State Park area</td>\n",
       "      <td>12</td>\n",
       "      <td>1</td>\n",
       "      <td>M</td>\n",
       "      <td>Y</td>\n",
       "      <td>N</td>\n",
       "      <td>0.007813</td>\n",
       "      <td>2.177570e-06</td>\n",
       "    </tr>\n",
       "    <tr>\n",
       "      <th>2</th>\n",
       "      <td>3</td>\n",
       "      <td>4.63277</td>\n",
       "      <td>135</td>\n",
       "      <td>Rocky Neck State Park area</td>\n",
       "      <td>12</td>\n",
       "      <td>1</td>\n",
       "      <td>M</td>\n",
       "      <td>Y</td>\n",
       "      <td>N</td>\n",
       "      <td>0.006846</td>\n",
       "      <td>2.015533e-06</td>\n",
       "    </tr>\n",
       "    <tr>\n",
       "      <th>3</th>\n",
       "      <td>4</td>\n",
       "      <td>1.37520</td>\n",
       "      <td>136</td>\n",
       "      <td>Rocky Neck State Park area</td>\n",
       "      <td>12</td>\n",
       "      <td>1</td>\n",
       "      <td>M</td>\n",
       "      <td>not field checked</td>\n",
       "      <td>N</td>\n",
       "      <td>0.004425</td>\n",
       "      <td>5.982568e-07</td>\n",
       "    </tr>\n",
       "    <tr>\n",
       "      <th>4</th>\n",
       "      <td>5</td>\n",
       "      <td>1.43834</td>\n",
       "      <td>67</td>\n",
       "      <td>Mumford Cove area</td>\n",
       "      <td>6</td>\n",
       "      <td>1</td>\n",
       "      <td>M</td>\n",
       "      <td>Y,N</td>\n",
       "      <td>Y</td>\n",
       "      <td>0.004711</td>\n",
       "      <td>6.259592e-07</td>\n",
       "    </tr>\n",
       "  </tbody>\n",
       "</table>\n",
       "</div>"
      ],
      "text/plain": [
       "   OBJECTID    ACRES  SITE_ID                    LOCATION  WATERSHED  \\\n",
       "0         1  6.96160      133  Rocky Neck State Park area         12   \n",
       "1         2  5.00563      134  Rocky Neck State Park area         12   \n",
       "2         3  4.63277      135  Rocky Neck State Park area         12   \n",
       "3         4  1.37520      136  Rocky Neck State Park area         12   \n",
       "4         5  1.43834       67           Mumford Cove area          6   \n",
       "\n",
       "   SIGNATURES BED_DENSITY         FIELD_06_V FIELD_02_V  SHAPE_Length  \\\n",
       "0           1           M                  Y          N      0.012991   \n",
       "1           1           M                  Y          N      0.007813   \n",
       "2           1           M                  Y          N      0.006846   \n",
       "3           1           M  not field checked          N      0.004425   \n",
       "4           1           M                Y,N          Y      0.004711   \n",
       "\n",
       "     SHAPE_Area  \n",
       "0  3.028277e-06  \n",
       "1  2.177570e-06  \n",
       "2  2.015533e-06  \n",
       "3  5.982568e-07  \n",
       "4  6.259592e-07  "
      ]
     },
     "execution_count": 5,
     "metadata": {},
     "output_type": "execute_result"
    }
   ],
   "source": [
    "df.head()"
   ]
  },
  {
   "cell_type": "code",
   "execution_count": 6,
   "id": "37760cb4-20f0-45b5-874e-4ab3c66e1bf3",
   "metadata": {},
   "outputs": [],
   "source": [
    "# Create engine to connect to DB\n",
    "engine = create_engine(DATABASE_URL)"
   ]
  },
  {
   "cell_type": "code",
   "execution_count": 7,
   "id": "554157c9-e827-4842-8feb-40660ab5deb9",
   "metadata": {},
   "outputs": [
    {
     "name": "stdout",
     "output_type": "stream",
     "text": [
      "\n",
      "CREATE TABLE extracted_data (\n",
      "\t\"OBJECTID\" BIGINT, \n",
      "\t\"ACRES\" FLOAT(53), \n",
      "\t\"SITE_ID\" BIGINT, \n",
      "\t\"LOCATION\" TEXT, \n",
      "\t\"WATERSHED\" BIGINT, \n",
      "\t\"SIGNATURES\" BIGINT, \n",
      "\t\"BED_DENSITY\" TEXT, \n",
      "\t\"FIELD_06_V\" TEXT, \n",
      "\t\"FIELD_02_V\" TEXT, \n",
      "\t\"SHAPE_Length\" FLOAT(53), \n",
      "\t\"SHAPE_Area\" FLOAT(53)\n",
      ")\n",
      "\n",
      "\n"
     ]
    }
   ],
   "source": [
    "# Check schema suggested by pandas\n",
    "# It's not ideal but it shold work\n",
    "print(pd.io.sql.get_schema(df, name='extracted_data', con=engine))"
   ]
  },
  {
   "cell_type": "code",
   "execution_count": 8,
   "id": "6e0c7ef8-9146-4d80-95da-de9fa1297af1",
   "metadata": {},
   "outputs": [],
   "source": [
    "#df.dtypes"
   ]
  },
  {
   "cell_type": "code",
   "execution_count": 9,
   "id": "d7ea8242-4172-4fec-a898-dbdfb8e44ce0",
   "metadata": {},
   "outputs": [
    {
     "data": {
      "text/plain": [
       "0"
      ]
     },
     "execution_count": 9,
     "metadata": {},
     "output_type": "execute_result"
    }
   ],
   "source": [
    "# Create table in postgresql\n",
    "df.head(0).to_sql(name='extracted_data', con=engine, if_exists='replace')"
   ]
  },
  {
   "cell_type": "code",
   "execution_count": 10,
   "id": "ca9ccae8-cec6-4bb0-82ee-b3b28c9f2171",
   "metadata": {},
   "outputs": [],
   "source": [
    "# Close connection to DB\n",
    "engine.dispose()"
   ]
  }
 ],
 "metadata": {
  "kernelspec": {
   "display_name": "Python 3 (ipykernel)",
   "language": "python",
   "name": "python3"
  },
  "language_info": {
   "codemirror_mode": {
    "name": "ipython",
    "version": 3
   },
   "file_extension": ".py",
   "mimetype": "text/x-python",
   "name": "python",
   "nbconvert_exporter": "python",
   "pygments_lexer": "ipython3",
   "version": "3.10.4"
  }
 },
 "nbformat": 4,
 "nbformat_minor": 5
}
